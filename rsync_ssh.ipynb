{
 "cells": [
  {
   "cell_type": "code",
   "execution_count": null,
   "metadata": {
    "collapsed": false
   },
   "outputs": [],
   "source": [
    "import pexpect\n",
    "\n",
    "# Read my password for ssh key\n",
    "with open(\"passphrase.txt\") as f:\n",
    "    my_pass = f.readline()\n",
    "    \n",
    "# Rsync everything\n",
    "child = pexpect.spawn(\"rsync -avz -e ssh ziran@192.168.1.100:~/AR2014/data /media/raid0/zeshi/AR_db/tmp\")\n",
    "child.expect(\"Enter passphrase for key '/home/zeshi/.ssh/id_rsa':\")\n",
    "child.sendline(my_pass)\n",
    "child.interact()"
   ]
  }
 ],
 "metadata": {
  "kernelspec": {
   "display_name": "Python 2",
   "language": "python",
   "name": "python2"
  },
  "language_info": {
   "codemirror_mode": {
    "name": "ipython",
    "version": 2
   },
   "file_extension": ".py",
   "mimetype": "text/x-python",
   "name": "python",
   "nbconvert_exporter": "python",
   "pygments_lexer": "ipython2",
   "version": "2.7.3"
  }
 },
 "nbformat": 4,
 "nbformat_minor": 0
}
