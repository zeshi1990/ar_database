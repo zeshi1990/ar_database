{
 "cells": [
  {
   "cell_type": "code",
   "execution_count": 16,
   "metadata": {
    "collapsed": true
   },
   "outputs": [],
   "source": [
    "import os"
   ]
  },
  {
   "cell_type": "code",
   "execution_count": 17,
   "metadata": {
    "collapsed": true
   },
   "outputs": [],
   "source": [
    "def folder_name_mapping(src):\n",
    "    if src == \"alpha\":\n",
    "        return \"Alpha\"\n",
    "    if src == \"bear\":\n",
    "        return \"Bear_Trap\"\n",
    "    if src == \"caples\":\n",
    "        return \"Caples_Lk\"\n",
    "    if src == \"duncan\":\n",
    "        return \"Duncan_Pk\"\n",
    "    if src == \"dolly\":\n",
    "        return \"DollyRice\"\n",
    "    if src == \"echo\":\n",
    "        return \"Echo_Pk\"\n",
    "    if src == \"lost\":\n",
    "        return \"Lost_Corner\"\n",
    "    if src == \"mt\":\n",
    "        return \"Mt_Lincoln\"\n",
    "    if src == \"onion\":\n",
    "        return \"Onion_Ck\"\n",
    "    if src == \"owens\":\n",
    "        return \"Owens_Camp\"\n",
    "    if src == \"robb\":\n",
    "        return \"Robbs_Saddle\"\n",
    "    if src == \"schneider\":\n",
    "        return \"Schneiders\"\n",
    "    if src == \"talbot\":\n",
    "        return \"Talbot_Camp\"\n",
    "    if src == \"van\":\n",
    "        return \"Van_Vleck\"\n",
    "    if src == \"test\":\n",
    "        return None"
   ]
  },
  {
   "cell_type": "code",
   "execution_count": 18,
   "metadata": {
    "collapsed": false
   },
   "outputs": [],
   "source": [
    "def transfer_data():\n",
    "    src_folder_names = os.listdir(\"tmp/data\")\n",
    "    for src in src_folder_names:\n",
    "        dst = folder_name_mapping(src)\n",
    "        if dst is None:\n",
    "            continue\n",
    "        src_dir = \"/media/raid0/zeshi/AR_db/tmp/data/\" + src + \"/\"\n",
    "        dst_dir = \"/media/raid0/zeshi/AR_db/server_data/\" + dst\n",
    "        print \"Sync data from\", src_dir, \"to\", dst_dir\n",
    "        command = \"rsync -avz \" + src_dir + \" \" + dst_dir\n",
    "        os.system(command)"
   ]
  },
  {
   "cell_type": "code",
   "execution_count": 19,
   "metadata": {
    "collapsed": false
   },
   "outputs": [
    {
     "name": "stdout",
     "output_type": "stream",
     "text": [
      "Sync data from tmp/data/robb/ to server_data/Robbs_Saddle\n",
      "Sync data from tmp/data/onion/ to server_data/Onion_Ck\n",
      "Sync data from tmp/data/alpha/ to server_data/Alpha\n",
      "Sync data from tmp/data/caples/ to server_data/Caples_Lk\n",
      "Sync data from tmp/data/schneider/ to server_data/Schneiders\n",
      "Sync data from tmp/data/van/ to server_data/Van_Vleck\n",
      "Sync data from tmp/data/lost/ to server_data/Lost_Corner\n",
      "Sync data from tmp/data/bear/ to server_data/Bear_Trap\n",
      "Sync data from tmp/data/duncan/ to server_data/Duncan_Pk\n",
      "Sync data from tmp/data/echo/ to server_data/Echo_Pk\n",
      "Sync data from tmp/data/mt/ to server_data/Mt_Lincoln\n",
      "Sync data from tmp/data/owens/ to server_data/Owens_Camp\n"
     ]
    }
   ],
   "source": [
    "transfer_data()"
   ]
  }
 ],
 "metadata": {
  "kernelspec": {
   "display_name": "Python 2",
   "language": "python",
   "name": "python2"
  },
  "language_info": {
   "codemirror_mode": {
    "name": "ipython",
    "version": 2
   },
   "file_extension": ".py",
   "mimetype": "text/x-python",
   "name": "python",
   "nbconvert_exporter": "python",
   "pygments_lexer": "ipython2",
   "version": "2.7.3"
  }
 },
 "nbformat": 4,
 "nbformat_minor": 0
}
