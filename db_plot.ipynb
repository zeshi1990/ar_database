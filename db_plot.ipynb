{
 "cells": [
  {
   "cell_type": "code",
   "execution_count": 42,
   "metadata": {
    "collapsed": true
   },
   "outputs": [],
   "source": [
    "from __future__ import print_function\n",
    "__author__ = \"zeshi\"\n",
    "\n",
    "import numpy as np\n",
    "from mysqldb_level_0 import query_data_level0\n",
    "import mysql.connector\n",
    "from mysql.connector import errorcode\n",
    "from datetime import datetime, date, timedelta\n",
    "from matplotlib import pyplot as plt\n",
    "\n",
    "%matplotlib inline"
   ]
  },
  {
   "cell_type": "code",
   "execution_count": 41,
   "metadata": {
    "collapsed": false
   },
   "outputs": [],
   "source": [
    "def db_plot(site_name_id, node_id, level, starting_time, ending_time, field='snowdepth'):\n",
    "    if isinstance(site_name_id, int):\n",
    "        query = (\"SELECT datetime, \" + field + \" FROM level_%s WHERE datetime >= %s AND datetime <= %s \" + \n",
    "                 \"AND node_id = %s AND site_id = %s\")\n",
    "    else:\n",
    "        query = (\"SELECT datetime, \" + field + \" FROM level_%s WHERE datetime >= %s AND datetime <= %s \" + \n",
    "                 \"AND node_id = %s AND site_id IN (SELECT site_id from sites where site_name = %s)\")\n",
    "    query_field = (level, starting_time, ending_time, node_id, site_name_id)\n",
    "    cnx = mysql.connector.connect(user = \"root\", password = \"root\", database = \"ar_data\")\n",
    "    cursor = cnx.cursor()\n",
    "    try:\n",
    "        cursor.execute(query, query_field)\n",
    "        data_tuple = cursor.fetchall()\n",
    "    except mysql.connector.Error as err:\n",
    "        print(err)\n",
    "        cursor.close()\n",
    "        cnx.close()\n",
    "        return\n",
    "    cursor.close()\n",
    "    cnx.close()\n",
    "    print(\"DB query secceed!\")\n",
    "    if len(data_tuple) == 0:\n",
    "        print(\"No data meet the input requirement!\")\n",
    "        return\n",
    "    datetime_list = []\n",
    "    data_list = []\n",
    "    for row in data_tuple:\n",
    "        datetime_list.append(row[0])\n",
    "        data_list.append(row[1])\n",
    "    plt.plot_date(datetime_list, data_list, '-b')\n",
    "    plt.show()"
   ]
  }
 ],
 "metadata": {
  "kernelspec": {
   "display_name": "Python 2",
   "language": "python",
   "name": "python2"
  },
  "language_info": {
   "codemirror_mode": {
    "name": "ipython",
    "version": 2
   },
   "file_extension": ".py",
   "mimetype": "text/x-python",
   "name": "python",
   "nbconvert_exporter": "python",
   "pygments_lexer": "ipython2",
   "version": "2.7.3"
  }
 },
 "nbformat": 4,
 "nbformat_minor": 0
}
